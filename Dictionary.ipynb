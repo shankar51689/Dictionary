{
 "cells": [
  {
   "cell_type": "code",
   "execution_count": 1,
   "metadata": {},
   "outputs": [
    {
     "name": "stdin",
     "output_type": "stream",
     "text": [
      "Enter a word:- power ranger\n"
     ]
    },
    {
     "name": "stdout",
     "output_type": "stream",
     "text": [
      "Did you mean this power hunger\n"
     ]
    },
    {
     "name": "stdin",
     "output_type": "stream",
     "text": [
      "press y for yes or n for no:- y\n"
     ]
    },
    {
     "name": "stdout",
     "output_type": "stream",
     "text": [
      "1 ) A great desire for power.\n"
     ]
    }
   ],
   "source": [
    "import json\n",
    "from difflib import get_close_matches\n",
    "data=json.load(open('original.json'))\n",
    "\n",
    "def define_meaning(word):\n",
    "    word=word.lower()\n",
    "    if word in data:\n",
    "        return data[word]\n",
    "    elif word.title() in data:\n",
    "        return data[word.title()]\n",
    "    elif word.upper() in data:\n",
    "        return data[word.upper()]\n",
    "    elif len(get_close_matches(word,data.keys()))>0:\n",
    "        print(f'Did you mean this {get_close_matches(word,data.keys())[0]}')\n",
    "        n=input('press y for yes or n for no:-')\n",
    "        if n=='y':\n",
    "            return data[get_close_matches(word,data.keys())[0]]\n",
    "        else:\n",
    "            return 'You press wrong keys or may be its not in our database'\n",
    "    else:\n",
    "        return 'You press wrong keys or may be its not in our database'\n",
    "    \n",
    "word=input('Enter a word:-')\n",
    "result=define_meaning(word)\n",
    "if( type(result)== list):\n",
    "    count=0\n",
    "    for l in result:\n",
    "        count+=1\n",
    "        print(count,')',l)\n",
    "else:\n",
    "    print(result)"
   ]
  },
  {
   "cell_type": "code",
   "execution_count": null,
   "metadata": {},
   "outputs": [],
   "source": []
  }
 ],
 "metadata": {
  "kernelspec": {
   "display_name": "Python 3",
   "language": "python",
   "name": "python3"
  },
  "language_info": {
   "codemirror_mode": {
    "name": "ipython",
    "version": 3
   },
   "file_extension": ".py",
   "mimetype": "text/x-python",
   "name": "python",
   "nbconvert_exporter": "python",
   "pygments_lexer": "ipython3",
   "version": "3.7.4"
  }
 },
 "nbformat": 4,
 "nbformat_minor": 4
}
